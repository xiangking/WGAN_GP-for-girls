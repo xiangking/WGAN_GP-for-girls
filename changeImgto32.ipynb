{
 "cells": [
  {
   "cell_type": "code",
   "execution_count": 1,
   "metadata": {},
   "outputs": [],
   "source": [
    "import cv2\n",
    "import os"
   ]
  },
  {
   "cell_type": "code",
   "execution_count": 8,
   "metadata": {},
   "outputs": [],
   "source": [
    "import cv2  \n",
    "import numpy  as np    \n",
    "\n",
    "\n",
    "Direct='C:/1.PlayGround/GirlPicture/train/'\n",
    "target = 'C:/1.PlayGround/train/'\n",
    "data_file = os.listdir('C:/1.PlayGround/GirlPicture/train/')\n",
    "for i in range(len(data_file)):\n",
    "    filename1 = Direct + data_file[i]\n",
    "    img = cv2.imread(filename1)\n",
    "    res = cv2.resize(img,(32,32))\n",
    "    cv2.imwrite(target+data_file[i]+'.jpg',res)"
   ]
  },
  {
   "cell_type": "code",
   "execution_count": 20,
   "metadata": {},
   "outputs": [],
   "source": [
    "from PIL import Image\n",
    "\n",
    "Direct='C:/1.PlayGround/GirlPicture/train/'\n",
    "target = 'C:/1.PlayGround/GirlPicture32PIL2/train/'\n",
    "data_file = os.listdir(Direct)\n",
    "for i in range(len(data_file)):\n",
    "    filename1 = Direct + data_file[i]\n",
    "    img = Image.open(filename1)\n",
    "    res = img.resize((32,32), Image.BICUBIC)\n",
    "    res.save(target+data_file[i]+'.jpg', 'jpeg')\n"
   ]
  },
  {
   "cell_type": "code",
   "execution_count": null,
   "metadata": {},
   "outputs": [],
   "source": []
  }
 ],
 "metadata": {
  "kernelspec": {
   "display_name": "Python 3",
   "language": "python",
   "name": "python3"
  },
  "language_info": {
   "codemirror_mode": {
    "name": "ipython",
    "version": 3
   },
   "file_extension": ".py",
   "mimetype": "text/x-python",
   "name": "python",
   "nbconvert_exporter": "python",
   "pygments_lexer": "ipython3",
   "version": "3.6.6"
  }
 },
 "nbformat": 4,
 "nbformat_minor": 2
}
